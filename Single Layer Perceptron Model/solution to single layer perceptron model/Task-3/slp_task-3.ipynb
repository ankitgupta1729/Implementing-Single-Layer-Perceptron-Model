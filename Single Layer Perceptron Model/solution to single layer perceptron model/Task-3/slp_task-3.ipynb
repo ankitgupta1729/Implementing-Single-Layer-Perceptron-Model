{
 "cells": [
  {
   "cell_type": "code",
   "execution_count": 54,
   "metadata": {},
   "outputs": [],
   "source": [
    "from matplotlib import pyplot as plt\n",
    "import pandas as pd\n",
    "import numpy as np\n",
    "import sys"
   ]
  },
  {
   "cell_type": "code",
   "execution_count": 55,
   "metadata": {},
   "outputs": [
    {
     "data": {
      "text/plain": [
       "(207, 61)"
      ]
     },
     "execution_count": 55,
     "metadata": {},
     "output_type": "execute_result"
    }
   ],
   "source": [
    "# Real life data is generally non-linealrly separable but using internet I got sonar dataset which is \n",
    "#linearly separable\n",
    "# I have used sonar dataset which is linearly separable and normalized \n",
    "# It can be downloaded from \n",
    "# https://archive.ics.uci.edu/ml/datasets/Connectionist+Bench+%28Sonar%2C+Mines+vs.+Rocks%29\n",
    "# https://archive.ics.uci.edu/ml/machine-learning-databases/undocumented/connectionist-bench/sonar/\n",
    "\n",
    "data = pd.read_csv(\"/home/ankit/Desktop/sonar.csv\")\n",
    "data.columns=['x'+str(x) for x in range(60)]+['Material']\n",
    "#data\n",
    "data.shape"
   ]
  },
  {
   "cell_type": "code",
   "execution_count": 56,
   "metadata": {},
   "outputs": [],
   "source": [
    "data1= data.to_numpy() #converting dataframe \"data\" to numpy array \"data1\"\n",
    "dataset=[]\n",
    "bias=1\n",
    "for i in range(len(data1)):\n",
    "    temp=[]\n",
    "    temp.append(bias)\n",
    "    for j in range(61):\n",
    "        temp.append(data1[i][j])\n",
    "    dataset.append(temp) # appending 1st column as bias=1 and all other columns of matrix data1 \n",
    "    # and created a new matrix of size 207*62 for our purpose\n",
    "#print(dataset)    "
   ]
  },
  {
   "cell_type": "code",
   "execution_count": 57,
   "metadata": {},
   "outputs": [],
   "source": [
    "# the original dataset has class-labels as \"M\" and \"R\", so we have to convert it into 1 and 0\n",
    "for i in range(len(dataset)):\n",
    "    if dataset[i][-1]=='M':\n",
    "        dataset[i][-1]=1\n",
    "    else:\n",
    "        dataset[i][-1]=0"
   ]
  },
  {
   "cell_type": "code",
   "execution_count": 58,
   "metadata": {},
   "outputs": [],
   "source": [
    "# here dataset has 62 dimensions which is much harder to visualize. \n",
    "# if it is of 2 dimensions then I can use plt.scatter() to visualize it easily\n",
    "# for data visualization purpose, we have to reduce the dimensions using PCA or t-SNE like techniques\n",
    "# and then visualize it"
   ]
  },
  {
   "cell_type": "code",
   "execution_count": 59,
   "metadata": {},
   "outputs": [],
   "source": [
    "# Implementing perceptron model\n",
    "\n",
    "weights=[] # initializing weights\n",
    "for i in range(62):\n",
    "    weights.append(np.random.randn())"
   ]
  },
  {
   "cell_type": "code",
   "execution_count": 60,
   "metadata": {},
   "outputs": [],
   "source": [
    " # I have commented the print statements because datset is of size 207*62 and \n",
    " # for each iteration printing weight values, accuracy etc will take much cell space and \n",
    "#   browser's tab will be crashed. "
   ]
  },
  {
   "cell_type": "code",
   "execution_count": 73,
   "metadata": {},
   "outputs": [],
   "source": [
    "def predict(inputs,weights): # This function takes values of features (x0,x1,x2,...x61) \n",
    "    \n",
    "    #one by one from dataset and weight vector as input and return the value according \n",
    "    #to the definition of standard sigmoid function  \n",
    "    \n",
    "    threshold = 0.0 # I have set the threshold as 0 \n",
    "    v = 0.0\n",
    "    for input,weight in zip(inputs,weights):\n",
    "        v += input*weight\n",
    "    return 1 if v >= threshold else 0.0    \n",
    "\n",
    "def accuracy(matrix,weights): # This function gives the accuracy on the scale of 0 to 1 \n",
    "    # in terms of how many points are correctly out of total number of data points   \n",
    "    \n",
    "    num_correct=0.0 #initialized total correct points as 0 \n",
    "    preds=[]\n",
    "    for i in range(len(matrix)):\n",
    "        pred=predict(matrix[i][:-1],weights)\n",
    "        preds.append(pred)\n",
    "        if pred==matrix[i][-1]: num_correct += 1.0 #if data point is correctly classified then number of \n",
    "            #correctly classified points are added by 1\n",
    "            \n",
    "    #print(\"Predictions:\",preds)\n",
    "    return num_correct/float(len(matrix))\n",
    "    \n",
    "def train_weights(matrix,weights,iterations=10000,l_rate=2.0): # This function is to train weights\n",
    "    #According to perceptron convergence theorem, after number of iterations, maximum accuracy will be reached \n",
    "    # and after that weight vector will not be changed. Since, generated data is of random numbers.\n",
    "    #So, each time when we run the cell, dataset will be different and so, number of iterations \n",
    "    #to get the estimated weight vector with accuracy 1.0 will be diferent and so accordingly you can change\n",
    "    # the value of number of iterations.\n",
    "    for epoch in range(iterations):\n",
    "        cur_acc=accuracy(matrix,weights)\n",
    "        #print(\"\\nIteration  %d \\nWeights:  \"%epoch,weights)\n",
    "        #print(\"Accuracy: \", cur_acc )\n",
    "        if cur_acc==1.0 and True : break\n",
    "            \n",
    "        for i in range(len(matrix)):\n",
    "            prediction = predict(matrix[i][:-1],weights)\n",
    "            error = matrix[i][-1] - prediction #to get the difference between predicted and actual class-label\n",
    "            \n",
    "            #if True:\n",
    "                #print(\"Training on data at index %d...\"%i)\n",
    "            for j in range(len(weights)):\n",
    "                #if True:\n",
    "                    #sys.stdout.write(\"\\t Weight[%d]: %0.5f ---> \"%(j,weights[j]))\n",
    "                weights[j]= weights[j] + (l_rate*error*matrix[i][j]) # weight is modified \n",
    "                #according to the definition\n",
    "                #if True: sys.stdout.write(\"%0.5f\\n\"%weights[j])\n",
    "    print(\"\\n Final estimated weight vector with accuracy %0.5f is:\"%cur_acc)\n",
    "    return weights"
   ]
  },
  {
   "cell_type": "code",
   "execution_count": 74,
   "metadata": {},
   "outputs": [
    {
     "name": "stdout",
     "output_type": "stream",
     "text": [
      "\n",
      " Final estimated weight vector with accuracy 0.76812 is:\n"
     ]
    },
    {
     "data": {
      "text/plain": [
       "[-203.17110395184255,\n",
       " 818.7882306233622,\n",
       " 69.60006214532568,\n",
       " -914.3413837569893,\n",
       " 423.7397133399329,\n",
       " 63.57050550888441,\n",
       " 3.4016365867032436,\n",
       " -301.1331489812688,\n",
       " -62.76645755855038,\n",
       " 77.25285500541368,\n",
       " -112.39771248969848,\n",
       " 149.92561204842283,\n",
       " 238.43852940057386,\n",
       " -47.97981890622493,\n",
       " -131.7664667678387,\n",
       " 290.1308160550853,\n",
       " -293.96850558758916,\n",
       " -126.69448440074946,\n",
       " 258.99623614762976,\n",
       " -87.34567419086481,\n",
       " 263.8929677822673,\n",
       " -302.45759333133907,\n",
       " 364.69990211088157,\n",
       " -277.42034703862413,\n",
       " 226.31865937949067,\n",
       " 65.8573420008936,\n",
       " -218.66026513585024,\n",
       " 223.62338409452164,\n",
       " -114.56406398119087,\n",
       " -95.90795696615383,\n",
       " 409.46303496452174,\n",
       " -435.68070100246143,\n",
       " 64.93810886537776,\n",
       " 283.0438971028584,\n",
       " -285.9652428058532,\n",
       " 212.96430768963387,\n",
       " -121.49174291845327,\n",
       " -99.98076412648497,\n",
       " -26.09526699775043,\n",
       " 172.47015492688797,\n",
       " -208.47688873041471,\n",
       " 123.6674724683513,\n",
       " -63.65433106709056,\n",
       " 68.24175262405726,\n",
       " 109.65606297772256,\n",
       " -195.51060532126593,\n",
       " 496.6918478010961,\n",
       " -403.18530102973506,\n",
       " 535.0791266496789,\n",
       " 1061.5258858452055,\n",
       " -2103.7004603361393,\n",
       " 443.39808052848355,\n",
       " 1011.4019796309334,\n",
       " 899.4584747837401,\n",
       " 246.52898639842738,\n",
       " 513.1434143644434,\n",
       " -46.04851682022659,\n",
       " -817.90591011236,\n",
       " 1144.8225459179941,\n",
       " 874.214068349856,\n",
       " 576.5851885334675,\n",
       " 721054.536820923]"
      ]
     },
     "execution_count": 74,
     "metadata": {},
     "output_type": "execute_result"
    }
   ],
   "source": [
    "train_weights(dataset, weights=weights,iterations=10000,l_rate=2.0)"
   ]
  },
  {
   "cell_type": "code",
   "execution_count": 30,
   "metadata": {},
   "outputs": [
    {
     "data": {
      "text/plain": [
       "4"
      ]
     },
     "execution_count": 30,
     "metadata": {},
     "output_type": "execute_result"
    }
   ],
   "source": [
    "y=[]\n",
    "y= [3]+[3,3]+[4]\n",
    "len(y)"
   ]
  },
  {
   "cell_type": "code",
   "execution_count": 31,
   "metadata": {},
   "outputs": [],
   "source": [
    "import numpy as np\n",
    "weights = []\n",
    "for i in range(3):\n",
    "    w = np.random.rand(y[i], y[i+1])\n",
    "    weights.append(w)"
   ]
  },
  {
   "cell_type": "code",
   "execution_count": 32,
   "metadata": {},
   "outputs": [
    {
     "data": {
      "text/plain": [
       "[array([[0.26737796, 0.78704654, 0.05317989],\n",
       "        [0.06296943, 0.93240277, 0.58792851],\n",
       "        [0.07233208, 0.49645868, 0.11802098]]),\n",
       " array([[0.02655098, 0.1235392 , 0.10689069],\n",
       "        [0.6557931 , 0.70987688, 0.22084963],\n",
       "        [0.59242697, 0.96828603, 0.79573077]]),\n",
       " array([[0.26886759, 0.13633571, 0.59897688, 0.24760047],\n",
       "        [0.74791356, 0.27701533, 0.82454904, 0.64992844],\n",
       "        [0.23739242, 0.10992237, 0.34902553, 0.70516456]])]"
      ]
     },
     "execution_count": 32,
     "metadata": {},
     "output_type": "execute_result"
    }
   ],
   "source": [
    "weights"
   ]
  },
  {
   "cell_type": "code",
   "execution_count": null,
   "metadata": {},
   "outputs": [],
   "source": []
  }
 ],
 "metadata": {
  "kernelspec": {
   "display_name": "Python 3",
   "language": "python",
   "name": "python3"
  },
  "language_info": {
   "codemirror_mode": {
    "name": "ipython",
    "version": 3
   },
   "file_extension": ".py",
   "mimetype": "text/x-python",
   "name": "python",
   "nbconvert_exporter": "python",
   "pygments_lexer": "ipython3",
   "version": "3.7.6"
  }
 },
 "nbformat": 4,
 "nbformat_minor": 4
}
